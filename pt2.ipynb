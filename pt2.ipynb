{
 "cells": [
  {
   "cell_type": "code",
   "execution_count": 1,
   "metadata": {},
   "outputs": [],
   "source": [
    "# !pip install sklearn\n",
    "\n",
    "import os\n",
    "import time\n",
    "import pickle\n",
    "\n",
    "import numpy as np\n",
    "import matplotlib.pyplot as plt\n",
    "from sklearn.model_selection import train_test_split\n",
    "import tensorflow as tf\n",
    "from tensorflow.keras.models import Sequential\n",
    "from tensorflow.keras.layers import Dense, Dropout, Flatten, Conv2D, MaxPooling2D\n",
    "from tensorflow.keras.callbacks import TensorBoard, ReduceLROnPlateau\n",
    "from tensorflow.keras.preprocessing.image import ImageDataGenerator\n",
    "from tensorflow.keras.utils import to_categorical\n",
    "from tensorflow.keras.optimizers import SGD, Adam"
   ]
  },
  {
   "cell_type": "code",
   "execution_count": 2,
   "metadata": {},
   "outputs": [],
   "source": [
    "X = pickle.load(open('X.pickle', 'rb'))\n",
    "Y = pickle.load(open('Y.pickle', 'rb'))"
   ]
  },
  {
   "cell_type": "code",
   "execution_count": 3,
   "metadata": {},
   "outputs": [],
   "source": [
    "X = X/255.0\n",
    "Y = to_categorical(Y, num_classes=5)\n",
    "\n",
    "x_train, x_test, y_train, y_test = train_test_split(X, Y, test_size=0.25, random_state=42)"
   ]
  },
  {
   "cell_type": "code",
   "execution_count": 4,
   "metadata": {
    "scrolled": true
   },
   "outputs": [
    {
     "name": "stdout",
     "output_type": "stream",
     "text": [
      "WARNING:tensorflow:From <ipython-input-4-561bd44870b1>:49: Model.fit_generator (from tensorflow.python.keras.engine.training) is deprecated and will be removed in a future version.\n",
      "Instructions for updating:\n",
      "Please use Model.fit, which supports generators.\n",
      "WARNING:tensorflow:sample_weight modes were coerced from\n",
      "  ...\n",
      "    to  \n",
      "  ['...']\n",
      "Train for 25 steps, validate on 3242 samples\n",
      "Epoch 1/50\n",
      "25/25 [==============================] - 38s 2s/step - loss: 1.5137 - accuracy: 0.3041 - val_loss: 1.2535 - val_accuracy: 0.4614\n",
      "Epoch 2/50\n",
      "25/25 [==============================] - 38s 2s/step - loss: 1.2360 - accuracy: 0.4522 - val_loss: 1.1884 - val_accuracy: 0.4920\n",
      "Epoch 3/50\n",
      "25/25 [==============================] - 40s 2s/step - loss: 1.1272 - accuracy: 0.5216 - val_loss: 1.0533 - val_accuracy: 0.5765\n",
      "Epoch 4/50\n",
      "25/25 [==============================] - 38s 2s/step - loss: 1.0590 - accuracy: 0.5620 - val_loss: 1.0343 - val_accuracy: 0.5700\n",
      "Epoch 5/50\n",
      "25/25 [==============================] - 37s 1s/step - loss: 1.0221 - accuracy: 0.5742 - val_loss: 0.9617 - val_accuracy: 0.6243\n",
      "Epoch 6/50\n",
      "25/25 [==============================] - 36s 1s/step - loss: 0.9982 - accuracy: 0.6031 - val_loss: 0.9347 - val_accuracy: 0.6329\n",
      "Epoch 7/50\n",
      "25/25 [==============================] - 37s 1s/step - loss: 0.9372 - accuracy: 0.6240 - val_loss: 0.8554 - val_accuracy: 0.6678\n",
      "Epoch 8/50\n",
      "25/25 [==============================] - 37s 1s/step - loss: 0.8944 - accuracy: 0.6474 - val_loss: 0.8455 - val_accuracy: 0.6626\n",
      "Epoch 9/50\n",
      "25/25 [==============================] - 36s 1s/step - loss: 0.8698 - accuracy: 0.6529 - val_loss: 0.8084 - val_accuracy: 0.6804\n",
      "Epoch 10/50\n",
      "25/25 [==============================] - 37s 1s/step - loss: 0.8403 - accuracy: 0.6731 - val_loss: 0.7881 - val_accuracy: 0.6863\n",
      "Epoch 11/50\n",
      "25/25 [==============================] - 36s 1s/step - loss: 0.8067 - accuracy: 0.6846 - val_loss: 0.7935 - val_accuracy: 0.6841\n",
      "Epoch 12/50\n",
      "25/25 [==============================] - 39s 2s/step - loss: 0.7941 - accuracy: 0.6882 - val_loss: 0.7095 - val_accuracy: 0.7233\n",
      "Epoch 13/50\n",
      "25/25 [==============================] - 39s 2s/step - loss: 0.8099 - accuracy: 0.6834 - val_loss: 0.7818 - val_accuracy: 0.6823\n",
      "Epoch 14/50\n",
      "25/25 [==============================] - 37s 1s/step - loss: 0.7746 - accuracy: 0.6901 - val_loss: 0.8898 - val_accuracy: 0.6582\n",
      "Epoch 15/50\n",
      "25/25 [==============================] - 37s 1s/step - loss: 0.7287 - accuracy: 0.7129 - val_loss: 0.6950 - val_accuracy: 0.7246\n",
      "Epoch 16/50\n",
      "25/25 [==============================] - 37s 1s/step - loss: 0.7290 - accuracy: 0.7161 - val_loss: 0.6701 - val_accuracy: 0.7415\n",
      "Epoch 17/50\n",
      "25/25 [==============================] - 37s 1s/step - loss: 0.7184 - accuracy: 0.7248 - val_loss: 0.7048 - val_accuracy: 0.7273\n",
      "Epoch 18/50\n",
      "25/25 [==============================] - 37s 1s/step - loss: 0.6937 - accuracy: 0.7171 - val_loss: 0.5931 - val_accuracy: 0.7761\n",
      "Epoch 19/50\n",
      "25/25 [==============================] - 37s 1s/step - loss: 0.6902 - accuracy: 0.7325 - val_loss: 0.6900 - val_accuracy: 0.7205\n",
      "Epoch 20/50\n",
      "25/25 [==============================] - 37s 1s/step - loss: 0.6860 - accuracy: 0.7306 - val_loss: 0.6329 - val_accuracy: 0.7535\n",
      "Epoch 21/50\n",
      "25/25 [==============================] - 37s 1s/step - loss: 0.6514 - accuracy: 0.7486 - val_loss: 0.6972 - val_accuracy: 0.7298\n",
      "Epoch 22/50\n",
      "25/25 [==============================] - 31s 1s/step - loss: 0.6670 - accuracy: 0.7341 - val_loss: 0.6140 - val_accuracy: 0.7671\n",
      "Epoch 23/50\n",
      "25/25 [==============================] - 32s 1s/step - loss: 0.6306 - accuracy: 0.7524 - val_loss: 0.5598 - val_accuracy: 0.7936\n",
      "Epoch 24/50\n",
      "25/25 [==============================] - 32s 1s/step - loss: 0.6060 - accuracy: 0.7585 - val_loss: 0.5646 - val_accuracy: 0.7835\n",
      "Epoch 25/50\n",
      "25/25 [==============================] - 32s 1s/step - loss: 0.6181 - accuracy: 0.7524 - val_loss: 0.5980 - val_accuracy: 0.7733\n",
      "Epoch 26/50\n",
      "25/25 [==============================] - 32s 1s/step - loss: 0.5877 - accuracy: 0.7749 - val_loss: 0.5393 - val_accuracy: 0.7936\n",
      "Epoch 27/50\n",
      "25/25 [==============================] - 32s 1s/step - loss: 0.5745 - accuracy: 0.7746 - val_loss: 0.5174 - val_accuracy: 0.8020\n",
      "Epoch 28/50\n",
      "25/25 [==============================] - 32s 1s/step - loss: 0.5723 - accuracy: 0.7820 - val_loss: 0.5092 - val_accuracy: 0.8054\n",
      "Epoch 29/50\n",
      "25/25 [==============================] - 32s 1s/step - loss: 0.5587 - accuracy: 0.7855 - val_loss: 0.4658 - val_accuracy: 0.8254\n",
      "Epoch 30/50\n",
      "25/25 [==============================] - 32s 1s/step - loss: 0.5809 - accuracy: 0.7714 - val_loss: 0.5234 - val_accuracy: 0.8001\n",
      "Epoch 31/50\n",
      "25/25 [==============================] - 32s 1s/step - loss: 0.5584 - accuracy: 0.7845 - val_loss: 0.5125 - val_accuracy: 0.8023\n",
      "Epoch 32/50\n",
      "25/25 [==============================] - 32s 1s/step - loss: 0.5532 - accuracy: 0.7868 - val_loss: 0.4586 - val_accuracy: 0.8254\n",
      "Epoch 33/50\n",
      "25/25 [==============================] - 32s 1s/step - loss: 0.5266 - accuracy: 0.7935 - val_loss: 0.4416 - val_accuracy: 0.8334\n",
      "Epoch 34/50\n",
      "25/25 [==============================] - 32s 1s/step - loss: 0.5207 - accuracy: 0.7974 - val_loss: 0.5349 - val_accuracy: 0.7927\n",
      "Epoch 35/50\n",
      "25/25 [==============================] - 32s 1s/step - loss: 0.5214 - accuracy: 0.7961 - val_loss: 0.4628 - val_accuracy: 0.8239\n",
      "Epoch 36/50\n",
      "25/25 [==============================] - 32s 1s/step - loss: 0.5108 - accuracy: 0.8009 - val_loss: 0.4201 - val_accuracy: 0.8368\n",
      "Epoch 37/50\n",
      "25/25 [==============================] - 32s 1s/step - loss: 0.4925 - accuracy: 0.8067 - val_loss: 0.3922 - val_accuracy: 0.8455\n",
      "Epoch 38/50\n",
      "25/25 [==============================] - 32s 1s/step - loss: 0.4606 - accuracy: 0.8186 - val_loss: 0.3929 - val_accuracy: 0.8479\n",
      "Epoch 39/50\n",
      "25/25 [==============================] - 33s 1s/step - loss: 0.4617 - accuracy: 0.8205 - val_loss: 0.3834 - val_accuracy: 0.8587\n",
      "Epoch 40/50\n",
      "25/25 [==============================] - 32s 1s/step - loss: 0.4560 - accuracy: 0.8263 - val_loss: 0.3749 - val_accuracy: 0.8624\n",
      "Epoch 41/50\n",
      "25/25 [==============================] - 32s 1s/step - loss: 0.4820 - accuracy: 0.8096 - val_loss: 0.4237 - val_accuracy: 0.8267\n",
      "Epoch 42/50\n",
      "25/25 [==============================] - 32s 1s/step - loss: 0.4764 - accuracy: 0.8112 - val_loss: 0.4046 - val_accuracy: 0.8427\n",
      "Epoch 43/50\n",
      "25/25 [==============================] - 32s 1s/step - loss: 0.4405 - accuracy: 0.8218 - val_loss: 0.3251 - val_accuracy: 0.8825\n",
      "Epoch 44/50\n",
      "25/25 [==============================] - 32s 1s/step - loss: 0.4081 - accuracy: 0.8407 - val_loss: 0.3781 - val_accuracy: 0.8504\n",
      "Epoch 45/50\n",
      "25/25 [==============================] - 32s 1s/step - loss: 0.4291 - accuracy: 0.8365 - val_loss: 0.3153 - val_accuracy: 0.8772\n",
      "Epoch 46/50\n",
      "25/25 [==============================] - 33s 1s/step - loss: 0.3998 - accuracy: 0.8407 - val_loss: 0.3930 - val_accuracy: 0.8486\n",
      "Epoch 47/50\n",
      "25/25 [==============================] - 31s 1s/step - loss: 0.4440 - accuracy: 0.8202 - val_loss: 0.3028 - val_accuracy: 0.8899\n",
      "Epoch 48/50\n",
      "25/25 [==============================] - 30s 1s/step - loss: 0.3940 - accuracy: 0.8478 - val_loss: 0.2943 - val_accuracy: 0.8859\n",
      "Epoch 49/50\n",
      "25/25 [==============================] - 31s 1s/step - loss: 0.3721 - accuracy: 0.8590 - val_loss: 0.2820 - val_accuracy: 0.8936\n",
      "Epoch 50/50\n",
      "25/25 [==============================] - 33s 1s/step - loss: 0.3592 - accuracy: 0.8613 - val_loss: 0.3451 - val_accuracy: 0.8646\n",
      "WARNING:tensorflow:From D:\\Documents\\Python\\Flowers-Recognition\\env\\lib\\site-packages\\tensorflow_core\\python\\ops\\resource_variable_ops.py:1786: calling BaseResourceVariable.__init__ (from tensorflow.python.ops.resource_variable_ops) with constraint is deprecated and will be removed in a future version.\n",
      "Instructions for updating:\n",
      "If using Keras pass *_constraint arguments to layers.\n",
      "INFO:tensorflow:Assets written to: Adam_AMSGrad_LR0.001.model\\assets\n"
     ]
    }
   ],
   "source": [
    "NAME = f'Flowers_Recognition-{int(time.time())}'\n",
    "DIR_NAME = os.path.abspath('')\n",
    "\n",
    "tensorboard = TensorBoard(log_dir=f'{DIR_NAME}\\logs\\\\{NAME}')\n",
    "\n",
    "# Network\n",
    "model = Sequential()\n",
    "\n",
    "model.add(Conv2D(32, (5, 5), input_shape=x_train.shape[1:], activation='relu'))\n",
    "model.add(MaxPooling2D(pool_size=(2, 2)))\n",
    "\n",
    "model.add(Conv2D(64, (3, 3), activation='relu'))\n",
    "model.add(MaxPooling2D(pool_size=(2, 2), strides=(2, 2)))\n",
    "\n",
    "model.add(Conv2D(96, (3, 3), activation='relu'))\n",
    "model.add(MaxPooling2D(pool_size=(2, 2), strides=(2, 2)))\n",
    "\n",
    "model.add(Conv2D(96, (3, 3), activation='relu'))\n",
    "model.add(MaxPooling2D(pool_size=(2, 2), strides=(2, 2)))\n",
    "\n",
    "model.add(Flatten())\n",
    "model.add(Dense(512, activation='relu'))\n",
    "\n",
    "model.add(Dense(5, activation='softmax'))\n",
    "\n",
    "red_lr = ReduceLROnPlateau(monitor='val_acc', patience=3, verbose=1, factor=0.1)\n",
    "\n",
    "datagen = ImageDataGenerator(\n",
    "        featurewise_center=False,              # set input mean to 0 over the dataset\n",
    "        samplewise_center=False,               # set each sample mean to 0\n",
    "        featurewise_std_normalization=False,   # divide inputs by std of the dataset\n",
    "        samplewise_std_normalization=False,    # divide each input by its std\n",
    "        zca_whitening=False,                   # apply ZCA whitening\n",
    "        rotation_range=10,                     # randomly rotate images in the range (degrees, 0 to 180)\n",
    "        zoom_range=0.1,                        # randomly zoom image \n",
    "        width_shift_range=0.2,                 # randomly shift images horizontally (fraction of total width)\n",
    "        height_shift_range=0.2,                # randomly shift images vertically (fraction of total height)\n",
    "        horizontal_flip=True,                  # randomly flip images\n",
    "        vertical_flip=False)                   # randomly flip images\n",
    "\n",
    "datagen.fit(x_train)\n",
    "\n",
    "x_test, y_test = x_train, y_train\n",
    "\n",
    "model.compile(loss='categorical_crossentropy', optimizer=Adam(lr=0.001, amsgrad=True), metrics=['accuracy'])\n",
    "\n",
    "History = model.fit_generator(datagen.flow(x_train, y_train, batch_size=128),\n",
    "                              epochs=50, validation_data=(x_test, y_test),\n",
    "                              verbose=1, steps_per_epoch=x_train.shape[0]//128)\n",
    "\n",
    "\n",
    "model.save('Adam_AMSGrad_LR0.001.model')"
   ]
  },
  {
   "cell_type": "code",
   "execution_count": 5,
   "metadata": {},
   "outputs": [
    {
     "data": {
      "image/png": "[encoded data removed]",
      "text/plain": [
       "<Figure size 432x288 with 1 Axes>"
      ]
     },
     "metadata": {
      "needs_background": "light"
     },
     "output_type": "display_data"
    }
   ],
   "source": [
    "plt.plot(History.history['loss'])\n",
    "plt.plot(History.history['val_loss'])\n",
    "plt.title('Model Loss')\n",
    "plt.ylabel('Loss')\n",
    "plt.xlabel('Epochs')\n",
    "plt.legend(['train', 'test'])\n",
    "plt.show()"
   ]
  },
  {
   "cell_type": "code",
   "execution_count": 7,
   "metadata": {},
   "outputs": [
    {
     "data": {
      "image/png": "[encoded data removed]",
      "text/plain": [
       "<Figure size 432x288 with 1 Axes>"
      ]
     },
     "metadata": {
      "needs_background": "light"
     },
     "output_type": "display_data"
    }
   ],
   "source": [
    "plt.plot(History.history['accuracy'])\n",
    "plt.plot(History.history['val_accuracy'])\n",
    "plt.title('Model Accuracy')\n",
    "plt.ylabel('Accuracy')\n",
    "plt.xlabel('Epochs')\n",
    "plt.legend(['train', 'test'])\n",
    "plt.show()"
   ]
  },
  {
   "cell_type": "code",
   "execution_count": null,
   "metadata": {},
   "outputs": [],
   "source": []
  }
 ],
 "metadata": {
  "kernelspec": {
   "display_name": "Python 3",
   "language": "python",
   "name": "python3"
  },
  "language_info": {
   "codemirror_mode": {
    "name": "ipython",
    "version": 3
   },
   "file_extension": ".py",
   "mimetype": "text/x-python",
   "name": "python",
   "nbconvert_exporter": "python",
   "pygments_lexer": "ipython3",
   "version": "3.6.8"
  }
 },
 "nbformat": 4,
 "nbformat_minor": 4
}
